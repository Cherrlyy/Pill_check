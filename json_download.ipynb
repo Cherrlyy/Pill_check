{
  "nbformat": 4,
  "nbformat_minor": 0,
  "metadata": {
    "colab": {
      "provenance": [],
      "gpuType": "T4",
      "mount_file_id": "1Cx7kWUgdT7DjF_O-gSqOws4w3ft72m6m",
      "authorship_tag": "ABX9TyOAUCQllQH03Ddcnf7vR/VV",
      "include_colab_link": true
    },
    "kernelspec": {
      "name": "python3",
      "display_name": "Python 3"
    },
    "language_info": {
      "name": "python"
    },
    "accelerator": "GPU"
  },
  "cells": [
    {
      "cell_type": "markdown",
      "metadata": {
        "id": "view-in-github",
        "colab_type": "text"
      },
      "source": [
        "<a href=\"https://colab.research.google.com/github/Cherrlyy/Pill_check/blob/main/json_download.ipynb\" target=\"_parent\"><img src=\"https://colab.research.google.com/assets/colab-badge.svg\" alt=\"Open In Colab\"/></a>"
      ]
    },
    {
      "cell_type": "code",
      "source": [
        "import os, sys\n",
        "from google.colab import drive\n",
        "drive.mount('/content/drive')\n",
        "\n",
        "\n",
        "my_path = '/content/notebooks'\n",
        "if not os.path.lexists(my_path):\n",
        "  os.symlink('/content/drive/MyDrive/Colab Notebooks/packages', my_path)\n",
        "sys.path.insert(0, my_path)"
      ],
      "metadata": {
        "colab": {
          "base_uri": "https://localhost:8080/"
        },
        "id": "swl87E03VMRd",
        "outputId": "d76a9d24-e796-45d3-de06-3e80316c0be6"
      },
      "execution_count": null,
      "outputs": [
        {
          "output_type": "stream",
          "name": "stdout",
          "text": [
            "Drive already mounted at /content/drive; to attempt to forcibly remount, call drive.mount(\"/content/drive\", force_remount=True).\n"
          ]
        }
      ]
    },
    {
      "cell_type": "code",
      "execution_count": null,
      "metadata": {
        "id": "iXrqgLaoLHzl"
      },
      "outputs": [],
      "source": [
        "!pip install --target=$my_path ultralytics\n"
      ]
    },
    {
      "cell_type": "code",
      "source": [
        "!pip install --target=$my_path --upgrade pandas==1.5.3\n",
        "!pip install --target=$my_path --upgrade fsspec==2023.6.0\n",
        "!pip install --target=$my_path --upgrade pillow==9.0.0"
      ],
      "metadata": {
        "id": "j3JqJYzL0lPR"
      },
      "execution_count": null,
      "outputs": []
    },
    {
      "cell_type": "code",
      "source": [
        "import pandas as pd\n",
        "pd.__version__"
      ],
      "metadata": {
        "colab": {
          "base_uri": "https://localhost:8080/",
          "height": 35
        },
        "id": "wweVlpHs2IWM",
        "outputId": "6933a1d9-4be5-4d38-9738-ffea7ce6b93e"
      },
      "execution_count": null,
      "outputs": [
        {
          "output_type": "execute_result",
          "data": {
            "text/plain": [
              "'1.5.3'"
            ],
            "application/vnd.google.colaboratory.intrinsic+json": {
              "type": "string"
            }
          },
          "metadata": {},
          "execution_count": 8
        }
      ]
    },
    {
      "cell_type": "code",
      "source": [
        "from ultralytics import YOLO\n",
        "import cv2\n",
        "import os\n",
        "import urllib\n",
        "import json\n",
        "from google.colab.patches import cv2_imshow\n"
      ],
      "metadata": {
        "colab": {
          "base_uri": "https://localhost:8080/",
          "height": 384
        },
        "id": "cFj7rrSRLJDq",
        "outputId": "b2c1e7f1-f635-4bb4-b65d-3a1c745e2189"
      },
      "execution_count": null,
      "outputs": [
        {
          "output_type": "error",
          "ename": "ModuleNotFoundError",
          "evalue": "No module named 'ultralytics'",
          "traceback": [
            "\u001b[0;31m---------------------------------------------------------------------------\u001b[0m",
            "\u001b[0;31mModuleNotFoundError\u001b[0m                       Traceback (most recent call last)",
            "\u001b[0;32m<ipython-input-2-b9e3ab0f7967>\u001b[0m in \u001b[0;36m<cell line: 1>\u001b[0;34m()\u001b[0m\n\u001b[0;32m----> 1\u001b[0;31m \u001b[0;32mfrom\u001b[0m \u001b[0multralytics\u001b[0m \u001b[0;32mimport\u001b[0m \u001b[0mYOLO\u001b[0m\u001b[0;34m\u001b[0m\u001b[0;34m\u001b[0m\u001b[0m\n\u001b[0m\u001b[1;32m      2\u001b[0m \u001b[0;32mimport\u001b[0m \u001b[0mcv2\u001b[0m\u001b[0;34m\u001b[0m\u001b[0;34m\u001b[0m\u001b[0m\n\u001b[1;32m      3\u001b[0m \u001b[0;32mimport\u001b[0m \u001b[0mos\u001b[0m\u001b[0;34m\u001b[0m\u001b[0;34m\u001b[0m\u001b[0m\n\u001b[1;32m      4\u001b[0m \u001b[0;32mimport\u001b[0m \u001b[0murllib\u001b[0m\u001b[0;34m\u001b[0m\u001b[0;34m\u001b[0m\u001b[0m\n\u001b[1;32m      5\u001b[0m \u001b[0;32mimport\u001b[0m \u001b[0mjson\u001b[0m\u001b[0;34m\u001b[0m\u001b[0;34m\u001b[0m\u001b[0m\n",
            "\u001b[0;31mModuleNotFoundError\u001b[0m: No module named 'ultralytics'",
            "",
            "\u001b[0;31m---------------------------------------------------------------------------\u001b[0;32m\nNOTE: If your import is failing due to a missing package, you can\nmanually install dependencies using either !pip or !apt.\n\nTo view examples of installing some common dependencies, click the\n\"Open Examples\" button below.\n\u001b[0;31m---------------------------------------------------------------------------\u001b[0m\n"
          ],
          "errorDetails": {
            "actions": [
              {
                "action": "open_url",
                "actionText": "Open Examples",
                "url": "/notebooks/snippets/importing_libraries.ipynb"
              }
            ]
          }
        }
      ]
    },
    {
      "cell_type": "code",
      "source": [
        "# json_path 경로 지정\n",
        "\n",
        "folder_path = '/content/drive/MyDrive/Colab Notebooks/캡스톤디자인/data/'\n",
        "\n",
        "# os.path.join(folder_path, filename)\n",
        "folder_list = os.listdir(folder_path)\n",
        "\n",
        "\n",
        "# folder_path_list = [os.path.join(folder_path, folder) for folder in folder_list]\n",
        "# for file_list in os.listdir(folder_list)\n",
        "# file_list_py = [[file for file in os.listdir(folder) if file.endswith('.json')] for folder in folder_path_list]\n",
        "\n",
        "# for (path, dir, files) in os.walk(\"/content/drive/MyDrive/Colab Notebooks/캡스톤디자인/data/\"):\n",
        "#     for filename in files:\n",
        "#         ext = os.path.splitext(filename)[-1]\n",
        "#         if ext == '.json':\n",
        "#             print(\"%s/%s\" % (path, filename))\n",
        "\n",
        "\n",
        "for folder in folder_list:\n",
        "  dir_path = os.path.join(folder_path, folder)\n",
        "  print(dir_path)\n",
        "\n",
        "  for file in os.listdir(dir_path):\n",
        "    file_path = os.path.join(dir_path, file)\n",
        "    # json 읽기\n",
        "    # print(file_path)\n",
        "    with open(file_path, 'r', encoding='utf-8') as j: # 'r' : read\n",
        "      json_data = json.load(j)\n",
        "    img_url = json_data['images'][0]['img_key']\n",
        "    # print(img_url)\n",
        "\n",
        "    os.makedirs('data', exist_ok=True)\n",
        "    try:\n",
        "      urllib.request.urlretrieve(img_url, 'data/pill.jpg')\n",
        "      print(img_url)\n",
        "\n",
        "      # model = YOLO(\"./pretrained/yolov8s.pt\")\n",
        "      # model.train(cfg=\"drive/MyDrive/Colab Notebooks/캡스톤디자인/default.yaml\")\n",
        "      # metrics = model.val()\n",
        "      # img = cv2.imread(\"data/pill.jpg\", cv2.IMREAD_COLOR)\n",
        "      # results = model(img)\n",
        "\n",
        "      # ress_plotted = results[0].plot()\n",
        "      # cv2_imshow(ress_plotted)\n",
        "\n",
        "    except:\n",
        "      continue\n",
        "\n",
        "# category_info = json_data['categories']\n",
        "# images_info = json_data['images']\n",
        "# annotations_info = json_data['annotations']\n",
        "# img_url = json_data['image_key']"
      ],
      "metadata": {
        "colab": {
          "base_uri": "https://localhost:8080/"
        },
        "id": "Uin6t9CDi2n0",
        "outputId": "67bf3674-e679-4c7f-d0de-c8939621451c"
      },
      "execution_count": null,
      "outputs": [
        {
          "output_type": "stream",
          "name": "stdout",
          "text": [
            "/content/drive/MyDrive/Colab Notebooks/캡스톤디자인/data/K-039136_json\n"
          ]
        }
      ]
    },
    {
      "cell_type": "code",
      "source": [
        "os.makedirs('data', exist_ok=True)\n",
        "urllib.request.urlretrieve(\"https://ultralytics.com/images/bus.jpg\", 'data/bus.jpg')"
      ],
      "metadata": {
        "id": "1VhDtLgVLso5"
      },
      "execution_count": null,
      "outputs": []
    },
    {
      "cell_type": "code",
      "source": [
        "model = YOLO(\"./pretrained/yolov8s.pt\")"
      ],
      "metadata": {
        "id": "tnaJEGAvO0_S"
      },
      "execution_count": null,
      "outputs": []
    },
    {
      "cell_type": "code",
      "source": [
        "model.train(cfg=\"drive/MyDrive/Colab Notebooks/캡스톤디자인/default.yaml\")"
      ],
      "metadata": {
        "id": "Igy3OtGyTtS9"
      },
      "execution_count": null,
      "outputs": []
    },
    {
      "cell_type": "code",
      "source": [
        "metrics = model.val()"
      ],
      "metadata": {
        "id": "jEHY_7uNbHdN"
      },
      "execution_count": null,
      "outputs": []
    },
    {
      "cell_type": "code",
      "source": [
        "img = cv2.imread(\"data/bus.png\", cv2.IMREAD_COLOR)"
      ],
      "metadata": {
        "id": "X8i5-hWiO_R9"
      },
      "execution_count": null,
      "outputs": []
    },
    {
      "cell_type": "code",
      "source": [
        "results = model(img)\n",
        "print(results)"
      ],
      "metadata": {
        "id": "tPNKZ-E9PBhC"
      },
      "execution_count": null,
      "outputs": []
    },
    {
      "cell_type": "code",
      "source": [
        "boxes = results[0].boxes\n",
        "box = boxes[0]  # returns one box\n",
        "print(box.xyxy)\n",
        "print(box.conf)"
      ],
      "metadata": {
        "id": "Hjy5k3dJPdxl"
      },
      "execution_count": null,
      "outputs": []
    },
    {
      "cell_type": "code",
      "source": [
        "from google.colab.patches import cv2_imshow\n",
        "\n",
        "ress_plotted = results[0].plot()\n",
        "cv2_imshow(ress_plotted)"
      ],
      "metadata": {
        "id": "IvJ3yAFPc02O"
      },
      "execution_count": null,
      "outputs": []
    },
    {
      "cell_type": "code",
      "source": [],
      "metadata": {
        "id": "uqMVleKNdDSK"
      },
      "execution_count": null,
      "outputs": []
    }
  ]
}